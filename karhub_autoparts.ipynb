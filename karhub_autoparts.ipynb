{
 "cells": [
  {
   "cell_type": "markdown",
   "id": "a57d9ad5",
   "metadata": {},
   "source": [
    "# O notebook abaixo será utilizado no intuito de realizar o pivot necessário na planilha de produtos da Karhub, para que fique mais organizada e que possamos fazer a analise e junções com outros dados adequadamente"
   ]
  },
  {
   "cell_type": "markdown",
   "id": "177f9de0",
   "metadata": {},
   "source": [
    "## Importando bibliotecas"
   ]
  },
  {
   "cell_type": "code",
   "execution_count": 317,
   "id": "f2917771",
   "metadata": {},
   "outputs": [],
   "source": [
    "import pandas as pd\n",
    "from unidecode import unidecode"
   ]
  },
  {
   "cell_type": "markdown",
   "id": "e68a9ab8",
   "metadata": {},
   "source": [
    "## Acessando o arquivo XLSX para tratar os dados em um DF"
   ]
  },
  {
   "cell_type": "code",
   "execution_count": 318,
   "id": "101515db",
   "metadata": {},
   "outputs": [],
   "source": [
    "karhub_autoparts = pd.read_excel(\"source/karhub_autoparts_1.xlsx\")"
   ]
  },
  {
   "cell_type": "markdown",
   "id": "b1cffa65",
   "metadata": {},
   "source": [
    "## Criando DF separado para valor atributo e nome atributo, para realizar o pivot"
   ]
  },
  {
   "cell_type": "code",
   "execution_count": 319,
   "id": "63621a2c",
   "metadata": {},
   "outputs": [],
   "source": [
    "df_atributos = karhub_autoparts\\\n",
    "    .drop(\"Nome SKU\", axis='columns')\\\n",
    "    .drop(\"Fabricante\", axis='columns')\\\n",
    "    .drop(\"Código\", axis='columns')\\\n",
    "    .drop(\"Composição\", axis='columns')\\\n",
    "    .drop(\"Categoria\", axis='columns')"
   ]
  },
  {
   "cell_type": "code",
   "execution_count": 320,
   "id": "fd858dae",
   "metadata": {},
   "outputs": [],
   "source": [
    "#Realização do Pivot\n",
    "df_pivot = df_atributos.pivot(values='Valor Atributo', columns='Nome Atributo')"
   ]
  },
  {
   "cell_type": "markdown",
   "id": "9939e5e4",
   "metadata": {},
   "source": [
    "## Criando DF que realiza o join do DF original da planilha autoparts com o DF com os atributos pivotados"
   ]
  },
  {
   "cell_type": "code",
   "execution_count": 321,
   "id": "81ae34ab",
   "metadata": {},
   "outputs": [],
   "source": [
    "autoparts = karhub_autoparts.join(df_pivot)"
   ]
  },
  {
   "cell_type": "markdown",
   "id": "4c9b1c6e",
   "metadata": {},
   "source": [
    "## CRIANDO DICIONARIO PARA O AGG\n",
    "### O dicionario sera utilizado no intuito de passar as colunas que receberão o método agg do pandas para agrupar utilizando a SK criada"
   ]
  },
  {
   "cell_type": "code",
   "execution_count": 322,
   "id": "c1de34ee",
   "metadata": {},
   "outputs": [],
   "source": [
    "#Lendo o DF primario e pegando todos os atributos existentes\n",
    "atributos = list(set(karhub_autoparts['Nome Atributo']))\n",
    "#Criando o dicionario e passando os atributos como chave, acompanhando o valor \"first\", \n",
    "#no qual é usado para que os valores dos atributos se encontrem na mesma linha de acordo com o agrupamento em questão\n",
    "dic_atributos = {}\n",
    "for cont in atributos:\n",
    "    dic_atributos[cont] = \"first\""
   ]
  },
  {
   "cell_type": "markdown",
   "id": "11a1b4eb",
   "metadata": {},
   "source": [
    "## Realizando o agrupamento com a coluna código e utilizando o dicionário acima para unir os valores em uma mesma linha."
   ]
  },
  {
   "cell_type": "code",
   "execution_count": 323,
   "id": "3fc0cab8",
   "metadata": {},
   "outputs": [],
   "source": [
    "autoparts_atributo_final = autoparts.groupby(\"Código\").agg(dic_atributos).reset_index()"
   ]
  },
  {
   "cell_type": "markdown",
   "id": "f546b3d7",
   "metadata": {},
   "source": [
    "## Realizando a manutenção sugerida na proposta de ajustar as colunas com \",\" para \".\""
   ]
  },
  {
   "cell_type": "code",
   "execution_count": 324,
   "id": "048277a2",
   "metadata": {},
   "outputs": [],
   "source": [
    "autoparts_atributo_final['Número de Espirais'] = autoparts_atributo_final['Número de Espirais'].astype(str)\n",
    "autoparts_atributo_final['Número de Espirais'] = autoparts_atributo_final['Número de Espirais'].str.replace(',', '.')\n"
   ]
  },
  {
   "cell_type": "markdown",
   "id": "7bdf2c6d",
   "metadata": {},
   "source": [
    "## Realizando o Join dos atributos já ajustados com o DF karhub_autoparts para coletarmos nome, fabricante, composição e categoria e incluir no DF autoparts_final"
   ]
  },
  {
   "cell_type": "code",
   "execution_count": 325,
   "id": "53947a45",
   "metadata": {},
   "outputs": [],
   "source": [
    "autoparts_final = autoparts_atributo_final.join(karhub_autoparts.drop(['Código', 'Valor Atributo', 'Nome Atributo']\\\n",
    "                                                                      , axis=\"columns\"))"
   ]
  },
  {
   "cell_type": "markdown",
   "id": "dbdc31f2",
   "metadata": {},
   "source": [
    "## Realizando tratamento do nome das colunas do DF, para serem aceitas no bigquery futuramente, criamos um dict compreheesion com a intenção de ter como chave o nome original da coluna, e o valor a coluna tratada.\n",
    "### na coluna tratada nós removemos os acentos, parenteses e substituímos o espaço por \"_\", além de deixar tudo em minúsculo."
   ]
  },
  {
   "cell_type": "code",
   "execution_count": 326,
   "id": "ef847a4e",
   "metadata": {},
   "outputs": [],
   "source": [
    "header_sem_acento = {i : unidecode(i.lower().replace('(','').replace(')','').replace(' ','_'))\\\n",
    "                     for i in list(autoparts_final.columns)}\n",
    "#passando o dicionário para corrigir os nomes adequadamente\n",
    "autoparts_final = autoparts_final.rename(columns=header_sem_acento)"
   ]
  },
  {
   "cell_type": "markdown",
   "id": "3b74bf94",
   "metadata": {},
   "source": [
    "## Reordenando as colunas do DF karhub_autoparts para o inicio do DF final"
   ]
  },
  {
   "cell_type": "code",
   "execution_count": 327,
   "id": "a8174bd9",
   "metadata": {},
   "outputs": [],
   "source": [
    "autoparts_final = pd.concat([autoparts_final.iloc[:, -4:], autoparts_final.iloc[:, :-4]], axis=1)"
   ]
  },
  {
   "cell_type": "code",
   "execution_count": 328,
   "id": "9a30ba6e",
   "metadata": {
    "scrolled": true
   },
   "outputs": [
    {
     "data": {
      "text/html": [
       "<div>\n",
       "<style scoped>\n",
       "    .dataframe tbody tr th:only-of-type {\n",
       "        vertical-align: middle;\n",
       "    }\n",
       "\n",
       "    .dataframe tbody tr th {\n",
       "        vertical-align: top;\n",
       "    }\n",
       "\n",
       "    .dataframe thead th {\n",
       "        text-align: right;\n",
       "    }\n",
       "</style>\n",
       "<table border=\"1\" class=\"dataframe\">\n",
       "  <thead>\n",
       "    <tr style=\"text-align: right;\">\n",
       "      <th></th>\n",
       "      <th>nome_sku</th>\n",
       "      <th>fabricante</th>\n",
       "      <th>composicao</th>\n",
       "      <th>categoria</th>\n",
       "      <th>codigo</th>\n",
       "      <th>numero_de_espirais</th>\n",
       "      <th>peso_bruto_kg</th>\n",
       "      <th>motor</th>\n",
       "      <th>altura_cm</th>\n",
       "      <th>peso_liquido_kg</th>\n",
       "      <th>posicao</th>\n",
       "      <th>largura_cm</th>\n",
       "      <th>comprimento_cm</th>\n",
       "    </tr>\n",
       "  </thead>\n",
       "  <tbody>\n",
       "    <tr>\n",
       "      <th>0</th>\n",
       "      <td>Mola da Suspensão Traseira</td>\n",
       "      <td>KarHub</td>\n",
       "      <td>UNITARY</td>\n",
       "      <td>Mola Helicoidal</td>\n",
       "      <td>0054</td>\n",
       "      <td>None</td>\n",
       "      <td>0.600</td>\n",
       "      <td>None</td>\n",
       "      <td>9.0</td>\n",
       "      <td>0.600</td>\n",
       "      <td>Traseira</td>\n",
       "      <td>18.0</td>\n",
       "      <td>8.0</td>\n",
       "    </tr>\n",
       "    <tr>\n",
       "      <th>1</th>\n",
       "      <td>Mola da Suspensão Traseira</td>\n",
       "      <td>KarHub</td>\n",
       "      <td>UNITARY</td>\n",
       "      <td>Mola Helicoidal</td>\n",
       "      <td>07402767.0</td>\n",
       "      <td>10.75</td>\n",
       "      <td>4.5</td>\n",
       "      <td>None</td>\n",
       "      <td>25</td>\n",
       "      <td>2.0</td>\n",
       "      <td>Traseira</td>\n",
       "      <td>40</td>\n",
       "      <td>25</td>\n",
       "    </tr>\n",
       "    <tr>\n",
       "      <th>2</th>\n",
       "      <td>Mola da Suspensão Traseira</td>\n",
       "      <td>KarHub</td>\n",
       "      <td>UNITARY</td>\n",
       "      <td>Mola Helicoidal</td>\n",
       "      <td>CH-0017</td>\n",
       "      <td>7.3</td>\n",
       "      <td>4.5</td>\n",
       "      <td>None</td>\n",
       "      <td>25</td>\n",
       "      <td>2.0</td>\n",
       "      <td>Traseira</td>\n",
       "      <td>40</td>\n",
       "      <td>25</td>\n",
       "    </tr>\n",
       "    <tr>\n",
       "      <th>3</th>\n",
       "      <td>Mola da Suspensão Traseira</td>\n",
       "      <td>KarHub</td>\n",
       "      <td>UNITARY</td>\n",
       "      <td>Mola Helicoidal</td>\n",
       "      <td>CH-0029</td>\n",
       "      <td>7</td>\n",
       "      <td>4.5</td>\n",
       "      <td>None</td>\n",
       "      <td>25</td>\n",
       "      <td>2.0</td>\n",
       "      <td>Dianteira</td>\n",
       "      <td>40</td>\n",
       "      <td>25</td>\n",
       "    </tr>\n",
       "    <tr>\n",
       "      <th>4</th>\n",
       "      <td>Mola da Suspensão Traseira</td>\n",
       "      <td>KarHub</td>\n",
       "      <td>UNITARY</td>\n",
       "      <td>Mola Helicoidal</td>\n",
       "      <td>CH-0033</td>\n",
       "      <td>7.5</td>\n",
       "      <td>4.5</td>\n",
       "      <td>None</td>\n",
       "      <td>25</td>\n",
       "      <td>2.0</td>\n",
       "      <td>Traseira</td>\n",
       "      <td>40</td>\n",
       "      <td>25</td>\n",
       "    </tr>\n",
       "    <tr>\n",
       "      <th>...</th>\n",
       "      <td>...</td>\n",
       "      <td>...</td>\n",
       "      <td>...</td>\n",
       "      <td>...</td>\n",
       "      <td>...</td>\n",
       "      <td>...</td>\n",
       "      <td>...</td>\n",
       "      <td>...</td>\n",
       "      <td>...</td>\n",
       "      <td>...</td>\n",
       "      <td>...</td>\n",
       "      <td>...</td>\n",
       "      <td>...</td>\n",
       "    </tr>\n",
       "    <tr>\n",
       "      <th>475</th>\n",
       "      <td>Mola de Suspensão Dianteira Helicoidal</td>\n",
       "      <td>KarHub</td>\n",
       "      <td>UNITARY</td>\n",
       "      <td>Mola Helicoidal</td>\n",
       "      <td>vw0425</td>\n",
       "      <td>None</td>\n",
       "      <td>0.600</td>\n",
       "      <td>None</td>\n",
       "      <td>9.0</td>\n",
       "      <td>0.600</td>\n",
       "      <td>Traseira</td>\n",
       "      <td>18.0</td>\n",
       "      <td>8.0</td>\n",
       "    </tr>\n",
       "    <tr>\n",
       "      <th>476</th>\n",
       "      <td>Mola de Suspensão Dianteira Helicoidal</td>\n",
       "      <td>KarHub</td>\n",
       "      <td>UNITARY</td>\n",
       "      <td>Mola Helicoidal</td>\n",
       "      <td>vw0446</td>\n",
       "      <td>None</td>\n",
       "      <td>0.600</td>\n",
       "      <td>None</td>\n",
       "      <td>9.0</td>\n",
       "      <td>0.600</td>\n",
       "      <td>Traseira</td>\n",
       "      <td>18.0</td>\n",
       "      <td>8.0</td>\n",
       "    </tr>\n",
       "    <tr>\n",
       "      <th>477</th>\n",
       "      <td>Mola de Suspensão Dianteira Helicoidal</td>\n",
       "      <td>KarHub</td>\n",
       "      <td>UNITARY</td>\n",
       "      <td>Mola Helicoidal</td>\n",
       "      <td>vw0474</td>\n",
       "      <td>None</td>\n",
       "      <td>0.600</td>\n",
       "      <td>None</td>\n",
       "      <td>9.0</td>\n",
       "      <td>0.600</td>\n",
       "      <td>Dianteira</td>\n",
       "      <td>18.0</td>\n",
       "      <td>8.0</td>\n",
       "    </tr>\n",
       "    <tr>\n",
       "      <th>478</th>\n",
       "      <td>Mola de Suspensão Dianteira Helicoidal</td>\n",
       "      <td>KarHub</td>\n",
       "      <td>UNITARY</td>\n",
       "      <td>Mola Helicoidal</td>\n",
       "      <td>vw0478</td>\n",
       "      <td>None</td>\n",
       "      <td>0.600</td>\n",
       "      <td>None</td>\n",
       "      <td>9.0</td>\n",
       "      <td>0.600</td>\n",
       "      <td>Dianteira</td>\n",
       "      <td>18.0</td>\n",
       "      <td>8.0</td>\n",
       "    </tr>\n",
       "    <tr>\n",
       "      <th>479</th>\n",
       "      <td>Mola de Suspensão Dianteira Helicoidal</td>\n",
       "      <td>KarHub</td>\n",
       "      <td>UNITARY</td>\n",
       "      <td>Mola Helicoidal</td>\n",
       "      <td>vw0524</td>\n",
       "      <td>None</td>\n",
       "      <td>0.600</td>\n",
       "      <td>None</td>\n",
       "      <td>9.0</td>\n",
       "      <td>0.600</td>\n",
       "      <td>Dianteira</td>\n",
       "      <td>18.0</td>\n",
       "      <td>8.0</td>\n",
       "    </tr>\n",
       "  </tbody>\n",
       "</table>\n",
       "<p>480 rows × 13 columns</p>\n",
       "</div>"
      ],
      "text/plain": [
       "                                   nome_sku fabricante composicao  \\\n",
       "0                Mola da Suspensão Traseira     KarHub    UNITARY   \n",
       "1                Mola da Suspensão Traseira     KarHub    UNITARY   \n",
       "2                Mola da Suspensão Traseira     KarHub    UNITARY   \n",
       "3                Mola da Suspensão Traseira     KarHub    UNITARY   \n",
       "4                Mola da Suspensão Traseira     KarHub    UNITARY   \n",
       "..                                      ...        ...        ...   \n",
       "475  Mola de Suspensão Dianteira Helicoidal     KarHub    UNITARY   \n",
       "476  Mola de Suspensão Dianteira Helicoidal     KarHub    UNITARY   \n",
       "477  Mola de Suspensão Dianteira Helicoidal     KarHub    UNITARY   \n",
       "478  Mola de Suspensão Dianteira Helicoidal     KarHub    UNITARY   \n",
       "479  Mola de Suspensão Dianteira Helicoidal     KarHub    UNITARY   \n",
       "\n",
       "           categoria      codigo numero_de_espirais peso_bruto_kg motor  \\\n",
       "0    Mola Helicoidal        0054               None         0.600  None   \n",
       "1    Mola Helicoidal  07402767.0              10.75           4.5  None   \n",
       "2    Mola Helicoidal     CH-0017                7.3           4.5  None   \n",
       "3    Mola Helicoidal     CH-0029                  7           4.5  None   \n",
       "4    Mola Helicoidal     CH-0033                7.5           4.5  None   \n",
       "..               ...         ...                ...           ...   ...   \n",
       "475  Mola Helicoidal      vw0425               None         0.600  None   \n",
       "476  Mola Helicoidal      vw0446               None         0.600  None   \n",
       "477  Mola Helicoidal      vw0474               None         0.600  None   \n",
       "478  Mola Helicoidal      vw0478               None         0.600  None   \n",
       "479  Mola Helicoidal      vw0524               None         0.600  None   \n",
       "\n",
       "    altura_cm peso_liquido_kg    posicao largura_cm comprimento_cm  \n",
       "0         9.0           0.600   Traseira       18.0            8.0  \n",
       "1          25             2.0   Traseira         40             25  \n",
       "2          25             2.0   Traseira         40             25  \n",
       "3          25             2.0  Dianteira         40             25  \n",
       "4          25             2.0   Traseira         40             25  \n",
       "..        ...             ...        ...        ...            ...  \n",
       "475       9.0           0.600   Traseira       18.0            8.0  \n",
       "476       9.0           0.600   Traseira       18.0            8.0  \n",
       "477       9.0           0.600  Dianteira       18.0            8.0  \n",
       "478       9.0           0.600  Dianteira       18.0            8.0  \n",
       "479       9.0           0.600  Dianteira       18.0            8.0  \n",
       "\n",
       "[480 rows x 13 columns]"
      ]
     },
     "execution_count": 328,
     "metadata": {},
     "output_type": "execute_result"
    }
   ],
   "source": [
    "autoparts_final"
   ]
  },
  {
   "cell_type": "markdown",
   "id": "24e65690",
   "metadata": {},
   "source": [
    "# ajustar o none de espirais para np.nan e transformar a coluna em float"
   ]
  },
  {
   "cell_type": "code",
   "execution_count": null,
   "id": "0da12a4e",
   "metadata": {},
   "outputs": [],
   "source": []
  }
 ],
 "metadata": {
  "kernelspec": {
   "display_name": "Python 3 (ipykernel)",
   "language": "python",
   "name": "python3"
  },
  "language_info": {
   "codemirror_mode": {
    "name": "ipython",
    "version": 3
   },
   "file_extension": ".py",
   "mimetype": "text/x-python",
   "name": "python",
   "nbconvert_exporter": "python",
   "pygments_lexer": "ipython3",
   "version": "3.10.1"
  }
 },
 "nbformat": 4,
 "nbformat_minor": 5
}
