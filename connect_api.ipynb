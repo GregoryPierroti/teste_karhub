{
 "cells": [
  {
   "cell_type": "markdown",
   "id": "b95fddb1",
   "metadata": {},
   "source": [
    "# Acessando os dados da API fornecida"
   ]
  },
  {
   "cell_type": "markdown",
   "id": "f6c9ea8f",
   "metadata": {},
   "source": [
    "## Declarando bibliotecas usadas"
   ]
  },
  {
   "cell_type": "code",
   "execution_count": 106,
   "id": "612dd8c2",
   "metadata": {},
   "outputs": [],
   "source": [
    "import requests"
   ]
  },
  {
   "cell_type": "markdown",
   "id": "da1376e6",
   "metadata": {},
   "source": [
    "## realizando o acesso ao token através das orientações da proposta do desafio"
   ]
  },
  {
   "cell_type": "code",
   "execution_count": 108,
   "id": "bfd285a9",
   "metadata": {},
   "outputs": [],
   "source": [
    "url = \"https://api-data-engineer-test-3bqvkbbykq-uc.a.run.app/user/\"\n",
    "payload = {\n",
    "  \"full_name\": \"Gregory Pierroti\",\n",
    "  \"email\": \"gregorypierroti@hotmail.com\"\n",
    "}\n",
    "headers = {\n",
    "    \"Content-Type\": \"application/json\",\n",
    "    \"accept\": \"application/json\"\n",
    "}\n",
    "response = requests.post(url, json=payload, headers=headers)"
   ]
  },
  {
   "cell_type": "markdown",
   "id": "54b68ab8",
   "metadata": {},
   "source": [
    "## coletando o token do response e passando o mesmo no metodo get para trazer os dados"
   ]
  },
  {
   "cell_type": "code",
   "execution_count": 156,
   "id": "eef122d0",
   "metadata": {},
   "outputs": [],
   "source": [
    "access_token = response.json()\n",
    "veiculos = requests.get(f\"https://api-data-engineer-test-3bqvkbbykq-uc.a.run.app/token={access_token['API Token']}\").json()"
   ]
  },
  {
   "cell_type": "code",
   "execution_count": null,
   "id": "f52ffa59",
   "metadata": {},
   "outputs": [],
   "source": []
  },
  {
   "cell_type": "code",
   "execution_count": null,
   "id": "372f8da4",
   "metadata": {},
   "outputs": [],
   "source": []
  },
  {
   "cell_type": "code",
   "execution_count": 157,
   "id": "160c6d86",
   "metadata": {},
   "outputs": [],
   "source": [
    "import pandas as pd"
   ]
  },
  {
   "cell_type": "code",
   "execution_count": 158,
   "id": "893238be",
   "metadata": {},
   "outputs": [],
   "source": [
    "for i in veiculos:\n",
    "    if 'Complemento' in list(i.keys()) and i['Complemento'] is not None:\n",
    "        i['Complemento'] = i['Complemento'].split(\"|\")\n",
    "        i['Complemento'] = [j.strip() for j in i['Complemento']]"
   ]
  },
  {
   "cell_type": "code",
   "execution_count": 159,
   "id": "9530c4af",
   "metadata": {},
   "outputs": [],
   "source": [
    "df_veiculo = pd.DataFrame(veiculos)"
   ]
  },
  {
   "cell_type": "code",
   "execution_count": 162,
   "id": "3f052d0b",
   "metadata": {},
   "outputs": [],
   "source": [
    "df_veiculo_final = df_veiculo.explode(column='Complemento')"
   ]
  },
  {
   "cell_type": "code",
   "execution_count": null,
   "id": "81611af2",
   "metadata": {
    "scrolled": true
   },
   "outputs": [],
   "source": []
  },
  {
   "cell_type": "code",
   "execution_count": null,
   "id": "08e09a2e",
   "metadata": {},
   "outputs": [],
   "source": []
  },
  {
   "cell_type": "code",
   "execution_count": null,
   "id": "9be87235",
   "metadata": {},
   "outputs": [],
   "source": []
  },
  {
   "cell_type": "code",
   "execution_count": null,
   "id": "123c99f6",
   "metadata": {},
   "outputs": [],
   "source": []
  }
 ],
 "metadata": {
  "kernelspec": {
   "display_name": "Python 3 (ipykernel)",
   "language": "python",
   "name": "python3"
  },
  "language_info": {
   "codemirror_mode": {
    "name": "ipython",
    "version": 3
   },
   "file_extension": ".py",
   "mimetype": "text/x-python",
   "name": "python",
   "nbconvert_exporter": "python",
   "pygments_lexer": "ipython3",
   "version": "3.10.1"
  }
 },
 "nbformat": 4,
 "nbformat_minor": 5
}
