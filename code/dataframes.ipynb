{
 "cells": [
  {
   "cell_type": "code",
   "execution_count": 10,
   "id": "9b70835d",
   "metadata": {},
   "outputs": [],
   "source": [
    "import pandas as pd"
   ]
  },
  {
   "cell_type": "code",
   "execution_count": 11,
   "id": "f4ff2434",
   "metadata": {},
   "outputs": [],
   "source": [
    "karhub_alias = pd.read_csv(\"C:/source/Karhub-alias.csv\")"
   ]
  },
  {
   "cell_type": "code",
   "execution_count": 14,
   "id": "0d0669db",
   "metadata": {},
   "outputs": [],
   "source": [
    "karhub_autoparts = pd.read_excel(\"C:/source/karhub_autoparts_1.xlsx\")"
   ]
  },
  {
   "cell_type": "code",
   "execution_count": 18,
   "id": "ca36495d",
   "metadata": {},
   "outputs": [
    {
     "data": {
      "text/plain": [
       "['Altura (cm)',\n",
       " 'Largura (cm)',\n",
       " 'Posição',\n",
       " 'Motor',\n",
       " 'Número de Espirais',\n",
       " 'Comprimento (cm)',\n",
       " 'Peso Bruto (Kg)',\n",
       " 'Peso Líquido (Kg)']"
      ]
     },
     "execution_count": 18,
     "metadata": {},
     "output_type": "execute_result"
    }
   ],
   "source": [
    "list(set(karhub_autoparts['Nome Atributo']))"
   ]
  },
  {
   "cell_type": "code",
   "execution_count": null,
   "id": "e91c0345",
   "metadata": {},
   "outputs": [],
   "source": []
  }
 ],
 "metadata": {
  "kernelspec": {
   "display_name": "Python 3 (ipykernel)",
   "language": "python",
   "name": "python3"
  },
  "language_info": {
   "codemirror_mode": {
    "name": "ipython",
    "version": 3
   },
   "file_extension": ".py",
   "mimetype": "text/x-python",
   "name": "python",
   "nbconvert_exporter": "python",
   "pygments_lexer": "ipython3",
   "version": "3.10.1"
  }
 },
 "nbformat": 4,
 "nbformat_minor": 5
}
