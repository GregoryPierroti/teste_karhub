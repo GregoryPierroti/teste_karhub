{
 "cells": [
  {
   "cell_type": "code",
   "execution_count": null,
   "id": "a683d23d",
   "metadata": {},
   "outputs": [],
   "source": [
    "from google.cloud import bigquery\n",
    "from functions.bigquery import credencial_bq\n",
    "client = bigquery.Client(credentials=credencial_bq())\n",
    "from functions.bigquery import write_bigquery\n",
    "import pandas as pd"
   ]
  },
  {
   "cell_type": "code",
   "execution_count": null,
   "id": "ba6b9611",
   "metadata": {},
   "outputs": [],
   "source": [
    "param = write_bigquery()\n",
    "tabela = param[0]\n",
    "project_id = param[1]"
   ]
  },
  {
   "cell_type": "markdown",
   "id": "859ea12f",
   "metadata": {},
   "source": [
    "## Resposta 1:"
   ]
  },
  {
   "cell_type": "code",
   "execution_count": null,
   "id": "2374d9ef",
   "metadata": {},
   "outputs": [],
   "source": [
    "sql = f'SELECT COUNT(DISTINCT codigo) FROM {tabela}'\n",
    "df1 = pd.read_gbq(sql, project_id=project_id, dialect='standard', credentials=credencial_bq())"
   ]
  },
  {
   "cell_type": "code",
   "execution_count": null,
   "id": "aba062ce",
   "metadata": {},
   "outputs": [],
   "source": [
    "df1"
   ]
  },
  {
   "cell_type": "markdown",
   "id": "3e3af6b9",
   "metadata": {},
   "source": [
    "## Resposta 2:"
   ]
  },
  {
   "cell_type": "code",
   "execution_count": null,
   "id": "a5b64301",
   "metadata": {},
   "outputs": [],
   "source": [
    "sql = f'SELECT COUNT(DISTINCT (CONCAT(marca, modelo, ano, complemento))) FROM {tabela}'\n",
    "df2 = pd.read_gbq(sql, project_id=project_id, dialect='standard', credentials=credencial_bq())"
   ]
  },
  {
   "cell_type": "code",
   "execution_count": null,
   "id": "d550d47e",
   "metadata": {},
   "outputs": [],
   "source": [
    "df2"
   ]
  },
  {
   "cell_type": "markdown",
   "id": "36b89220",
   "metadata": {},
   "source": [
    "## Resposta 3:"
   ]
  },
  {
   "cell_type": "code",
   "execution_count": null,
   "id": "af5e2b57",
   "metadata": {},
   "outputs": [],
   "source": [
    "sql = f'SELECT categoria, COUNT(DISTINCT codigo) FROM {tabela} GROUP BY categoria'\n",
    "df3 = pd.read_gbq(sql, project_id=project_id, dialect='standard', credentials=credencial_bq())"
   ]
  },
  {
   "cell_type": "code",
   "execution_count": null,
   "id": "65c3a5f9",
   "metadata": {},
   "outputs": [],
   "source": [
    "df3"
   ]
  }
 ],
 "metadata": {
  "kernelspec": {
   "display_name": "Python 3 (ipykernel)",
   "language": "python",
   "name": "python3"
  },
  "language_info": {
   "codemirror_mode": {
    "name": "ipython",
    "version": 3
   },
   "file_extension": ".py",
   "mimetype": "text/x-python",
   "name": "python",
   "nbconvert_exporter": "python",
   "pygments_lexer": "ipython3",
   "version": "3.10.1"
  }
 },
 "nbformat": 4,
 "nbformat_minor": 5
}
