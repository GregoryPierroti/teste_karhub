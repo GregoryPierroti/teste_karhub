{
 "cells": [
  {
   "cell_type": "code",
   "execution_count": null,
   "id": "e626754c",
   "metadata": {},
   "outputs": [],
   "source": [
    "from functions.df_alias import alias\n",
    "from functions.df_produtos import df_produto_final\n",
    "from functions.df_veiculos import df_veiculo_final\n",
    "from functions.connect_api import consumir_api\n",
    "from functions.bigquery import write_bigquery, credencial_bq\n",
    "from datetime import datetime\n",
    "import pandas as pd\n",
    "import pandas_gbq"
   ]
  },
  {
   "cell_type": "code",
   "execution_count": null,
   "id": "db4b1484",
   "metadata": {},
   "outputs": [],
   "source": [
    "#consumindo api e salvando no df\n",
    "veiculos = consumir_api()\n",
    "df_veiculos = df_veiculo_final(veiculos)\n",
    "\n",
    "df_alias = alias()\n",
    "\n",
    "df_produtos = df_produto_final()"
   ]
  },
  {
   "cell_type": "markdown",
   "id": "f8ce03fd",
   "metadata": {},
   "source": [
    "## Realizando o Join entre a tabela de produtos e a tabela de veículos através da tabela de alias"
   ]
  },
  {
   "cell_type": "code",
   "execution_count": null,
   "id": "53555be4",
   "metadata": {},
   "outputs": [],
   "source": [
    "df_produtos_alias = pd.merge(df_produtos, df_alias, left_on='Código', right_on='Código Fabricante')\n",
    "df = pd.merge(df_produtos_alias, df_veiculos, left_on='Alias', right_on='Código Fabricante')"
   ]
  },
  {
   "cell_type": "markdown",
   "id": "3e853d1c",
   "metadata": {},
   "source": [
    "## Script na qual remove caracteres especiais, letras maiusculas e acentuações das colunas, para que o bigquery não tenha problemas para escrever o df em tabela SQL"
   ]
  },
  {
   "cell_type": "code",
   "execution_count": null,
   "id": "54fafff4",
   "metadata": {},
   "outputs": [],
   "source": [
    "from unidecode import unidecode\n",
    "header_sem_acento = {i : unidecode(i.lower().replace('(','').replace(')','').replace(' ','_'))\\\n",
    "                     for i in list(df.columns)}\n",
    "    #passando o dicionário para corrigir os nomes adequadamente\n",
    "df = df.rename(columns=header_sem_acento)"
   ]
  },
  {
   "cell_type": "markdown",
   "id": "d76614c5",
   "metadata": {},
   "source": [
    "## Inserindo colunas solicitadas no desafio"
   ]
  },
  {
   "cell_type": "code",
   "execution_count": null,
   "id": "a8502ba6",
   "metadata": {},
   "outputs": [],
   "source": [
    "df['dt_insert'] = datetime.now()\n",
    "df['candidate_name']= 'Grégory Pierroti'"
   ]
  },
  {
   "cell_type": "markdown",
   "id": "5a66d530",
   "metadata": {},
   "source": [
    "## Escrevendo DF no bigQuery"
   ]
  },
  {
   "cell_type": "code",
   "execution_count": null,
   "id": "85ccaee1",
   "metadata": {},
   "outputs": [],
   "source": [
    "param = write_bigquery()\n",
    "tabela = write_bigquery()[0]\n",
    "project_id = write_bigquery()[1]"
   ]
  },
  {
   "cell_type": "code",
   "execution_count": null,
   "id": "e079ab3f",
   "metadata": {},
   "outputs": [],
   "source": [
    "df.to_gbq(destination_table=tabela,project_id=project_id, credentials=credencial_bq(),if_exists='replace')"
   ]
  },
  {
   "cell_type": "code",
   "execution_count": null,
   "id": "9455ff9b",
   "metadata": {},
   "outputs": [],
   "source": []
  },
  {
   "cell_type": "code",
   "execution_count": null,
   "id": "3726cd1f",
   "metadata": {},
   "outputs": [],
   "source": []
  }
 ],
 "metadata": {
  "kernelspec": {
   "display_name": "Python 3 (ipykernel)",
   "language": "python",
   "name": "python3"
  },
  "language_info": {
   "codemirror_mode": {
    "name": "ipython",
    "version": 3
   },
   "file_extension": ".py",
   "mimetype": "text/x-python",
   "name": "python",
   "nbconvert_exporter": "python",
   "pygments_lexer": "ipython3",
   "version": "3.10.1"
  }
 },
 "nbformat": 4,
 "nbformat_minor": 5
}
