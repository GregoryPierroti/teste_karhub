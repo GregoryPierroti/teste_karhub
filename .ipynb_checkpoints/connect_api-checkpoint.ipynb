{
 "cells": [
  {
   "cell_type": "markdown",
   "id": "d1d1906c",
   "metadata": {},
   "source": [
    "# Acessando os dados da API fornecida"
   ]
  },
  {
   "cell_type": "markdown",
   "id": "c2d6b13e",
   "metadata": {},
   "source": [
    "## Declarando bibliotecas usadas"
   ]
  },
  {
   "cell_type": "code",
   "execution_count": 106,
   "id": "4ae54bda",
   "metadata": {},
   "outputs": [],
   "source": [
    "import requests"
   ]
  },
  {
   "cell_type": "markdown",
   "id": "4dd48459",
   "metadata": {},
   "source": [
    "## realizando o acesso ao token através das orientações da proposta do desafio"
   ]
  },
  {
   "cell_type": "code",
   "execution_count": 108,
   "id": "0bf9e44b",
   "metadata": {},
   "outputs": [],
   "source": [
    "def consumir_api():\n",
    "    url = \"https://api-data-engineer-test-3bqvkbbykq-uc.a.run.app/user/\"\n",
    "    payload = {\n",
    "      \"full_name\": \"Gregory Pierroti\",\n",
    "      \"email\": \"gregorypierroti@hotmail.com\"\n",
    "    }\n",
    "    headers = {\n",
    "        \"Content-Type\": \"application/json\",\n",
    "        \"accept\": \"application/json\"\n",
    "    }\n",
    "    response = requests.post(url, json=payload, headers=headers)\n",
    "    return gerar_dados_veiculos(response)"
   ]
  },
  {
   "cell_type": "markdown",
   "id": "06d629a3",
   "metadata": {},
   "source": [
    "## coletando o token do response e passando o mesmo no metodo get para trazer os dados"
   ]
  },
  {
   "cell_type": "code",
   "execution_count": 156,
   "id": "1e0d428a",
   "metadata": {},
   "outputs": [],
   "source": [
    "def gerar_dados_veiculos(response)\n",
    "    access_token = response.json()\n",
    "    veiculos = requests.get(f\"https://api-data-engineer-test-3bqvkbbykq-uc.a.run.app/token={access_token['API Token']}\").json()\n",
    "    return veiculos"
   ]
  },
  {
   "cell_type": "code",
   "execution_count": null,
   "id": "253b0c5f",
   "metadata": {},
   "outputs": [],
   "source": [
    "import requests\n",
    "\n",
    "def gerar_dados_veiculos(response)\n",
    "    \"\"\"coletando o token do response e passando o mesmo no metodo get para trazer os dados\"\"\"\n",
    "    access_token = response.json()\n",
    "    veiculos = requests.get(f\"https://api-data-engineer-test-3bqvkbbykq-uc.a.run.app/token={access_token['API Token']}\").json()\n",
    "    return veiculos\n",
    "\n",
    "\n",
    "def consumir_api():\n",
    "    \"\"\"realizando o acesso ao token através das orientações da proposta do desafio\"\"\"\n",
    "    url = \"https://api-data-engineer-test-3bqvkbbykq-uc.a.run.app/user/\"\n",
    "    payload = {\n",
    "      \"full_name\": \"Gregory Pierroti\",\n",
    "      \"email\": \"gregorypierroti@hotmail.com\"\n",
    "    }\n",
    "    headers = {\n",
    "        \"Content-Type\": \"application/json\",\n",
    "        \"accept\": \"application/json\"\n",
    "    }\n",
    "    response = requests.post(url, json=payload, headers=headers)\n",
    "    return gerar_dados_veiculos(response)\n",
    "\n"
   ]
  },
  {
   "cell_type": "code",
   "execution_count": null,
   "id": "5dae0b3e",
   "metadata": {},
   "outputs": [],
   "source": []
  },
  {
   "cell_type": "code",
   "execution_count": 157,
   "id": "820df379",
   "metadata": {},
   "outputs": [],
   "source": []
  },
  {
   "cell_type": "code",
   "execution_count": 158,
   "id": "ac713d14",
   "metadata": {},
   "outputs": [],
   "source": []
  },
  {
   "cell_type": "code",
   "execution_count": 159,
   "id": "58b64a2b",
   "metadata": {},
   "outputs": [],
   "source": []
  },
  {
   "cell_type": "code",
   "execution_count": 162,
   "id": "48949689",
   "metadata": {},
   "outputs": [],
   "source": []
  },
  {
   "cell_type": "code",
   "execution_count": null,
   "id": "41ece9f2",
   "metadata": {
    "scrolled": true
   },
   "outputs": [],
   "source": []
  },
  {
   "cell_type": "code",
   "execution_count": null,
   "id": "c265511f",
   "metadata": {},
   "outputs": [],
   "source": []
  },
  {
   "cell_type": "code",
   "execution_count": null,
   "id": "4b9dcbb0",
   "metadata": {},
   "outputs": [],
   "source": []
  },
  {
   "cell_type": "code",
   "execution_count": null,
   "id": "82594f1c",
   "metadata": {},
   "outputs": [],
   "source": []
  }
 ],
 "metadata": {
  "kernelspec": {
   "display_name": "Python 3 (ipykernel)",
   "language": "python",
   "name": "python3"
  },
  "language_info": {
   "codemirror_mode": {
    "name": "ipython",
    "version": 3
   },
   "file_extension": ".py",
   "mimetype": "text/x-python",
   "name": "python",
   "nbconvert_exporter": "python",
   "pygments_lexer": "ipython3",
   "version": "3.10.1"
  }
 },
 "nbformat": 4,
 "nbformat_minor": 5
}
