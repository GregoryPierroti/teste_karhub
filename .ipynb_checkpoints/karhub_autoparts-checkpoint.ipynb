{
 "cells": [
  {
   "cell_type": "markdown",
   "id": "a57d9ad5",
   "metadata": {},
   "source": [
    "# O notebook abaixo será utilizado no intuito de realizar o pivot necessário na planilha de produtos da Karhub, para que fique mais organizada e que possamos fazer a analise e junções com outros dados adequadamente"
   ]
  },
  {
   "cell_type": "markdown",
   "id": "177f9de0",
   "metadata": {},
   "source": [
    "## Importando bibliotecas"
   ]
  },
  {
   "cell_type": "code",
   "execution_count": 1,
   "id": "f2917771",
   "metadata": {},
   "outputs": [],
   "source": [
    "import pandas as pd\n",
    "import numpy as np\n",
    "from unidecode import unidecode"
   ]
  },
  {
   "cell_type": "markdown",
   "id": "e68a9ab8",
   "metadata": {},
   "source": [
    "# #Acessando o arquivo XLSX para tratar os dados em um DF"
   ]
  },
  {
   "cell_type": "code",
   "execution_count": 2,
   "id": "101515db",
   "metadata": {},
   "outputs": [],
   "source": [
    "karhub_autoparts = pd.read_excel(\"source/karhub_autoparts_1.xlsx\")"
   ]
  },
  {
   "cell_type": "markdown",
   "id": "b1cffa65",
   "metadata": {},
   "source": [
    "## Criando DF separado para valor atributo e nome atributo, para realizar o pivot"
   ]
  },
  {
   "cell_type": "code",
   "execution_count": 3,
   "id": "63621a2c",
   "metadata": {},
   "outputs": [],
   "source": [
    "df_atributos = karhub_autoparts\\\n",
    "    .drop(\"Nome SKU\", axis='columns')\\\n",
    "    .drop(\"Fabricante\", axis='columns')\\\n",
    "    .drop(\"Código\", axis='columns')\\\n",
    "    .drop(\"Composição\", axis='columns')\\\n",
    "    .drop(\"Categoria\", axis='columns')"
   ]
  },
  {
   "cell_type": "code",
   "execution_count": 4,
   "id": "fd858dae",
   "metadata": {},
   "outputs": [],
   "source": [
    "#Realização do Pivot\n",
    "df_pivot = df_atributos.pivot(values='Valor Atributo', columns='Nome Atributo')"
   ]
  },
  {
   "cell_type": "markdown",
   "id": "9939e5e4",
   "metadata": {},
   "source": [
    "## Criando DF que realiza o join do DF original da planilha autoparts com o DF com os atributos pivotados"
   ]
  },
  {
   "cell_type": "code",
   "execution_count": 5,
   "id": "81ae34ab",
   "metadata": {},
   "outputs": [],
   "source": [
    "autoparts = karhub_autoparts.join(df_pivot)"
   ]
  },
  {
   "cell_type": "markdown",
   "id": "4c9b1c6e",
   "metadata": {},
   "source": [
    "## CRIANDO DICIONARIO PARA O AGG\n",
    "### O dicionario sera utilizado no intuito de passar as colunas que receberão o método agg do pandas para agrupar utilizando o código do produto."
   ]
  },
  {
   "cell_type": "code",
   "execution_count": 8,
   "id": "c1de34ee",
   "metadata": {},
   "outputs": [],
   "source": [
    "#Lendo o DF primario e pegando todos os atributos existentes\n",
    "atributos = list(set(karhub_autoparts['Nome Atributo']))\n",
    "#Criando o dicionario e passando os atributos como chave, acompanhando o valor \"first\", \n",
    "#no qual é usado para que os valores dos atributos se encontrem na mesma linha de acordo com o agrupamento em questão\n",
    "dic_atributos = {cont: \"first\" for cont in atributos}"
   ]
  },
  {
   "cell_type": "markdown",
   "id": "11a1b4eb",
   "metadata": {},
   "source": [
    "## Realizando o agrupamento com a coluna código e utilizando o dicionário acima para unir os valores em uma mesma linha."
   ]
  },
  {
   "cell_type": "code",
   "execution_count": 10,
   "id": "3fc0cab8",
   "metadata": {},
   "outputs": [],
   "source": [
    "autoparts_atributo_final = autoparts.groupby(\"Código\").agg(dic_atributos).reset_index()"
   ]
  },
  {
   "cell_type": "markdown",
   "id": "f546b3d7",
   "metadata": {},
   "source": [
    "## Realizando a manutenção sugerida na proposta de ajustar as colunas com \",\" para \".\" e transformando os valores nulos em 0"
   ]
  },
  {
   "cell_type": "code",
   "execution_count": 24,
   "id": "048277a2",
   "metadata": {},
   "outputs": [],
   "source": [
    "autoparts_atributo_final['Número de Espirais'] = autoparts_atributo_final['Número de Espirais'].astype(str)\n",
    "autoparts_atributo_final['Número de Espirais'] = autoparts_atributo_final['Número de Espirais'].str.replace(',', '.').replace('None','0')\n",
    "autoparts_atributo_final['Número de Espirais'] = autoparts_atributo_final['Número de Espirais'].astype(float)"
   ]
  },
  {
   "cell_type": "markdown",
   "id": "7bdf2c6d",
   "metadata": {},
   "source": [
    "## Realizando o Join dos atributos já ajustados com o DF karhub_autoparts para coletarmos nome, fabricante, composição e categoria e incluir no DF autoparts_final"
   ]
  },
  {
   "cell_type": "code",
   "execution_count": 26,
   "id": "53947a45",
   "metadata": {},
   "outputs": [],
   "source": [
    "autoparts_final = autoparts_atributo_final.join(karhub_autoparts.drop(['Código', 'Valor Atributo', 'Nome Atributo']\\\n",
    "                                                                      , axis=\"columns\"))"
   ]
  },
  {
   "cell_type": "markdown",
   "id": "dbdc31f2",
   "metadata": {},
   "source": [
    "## Realizando tratamento do nome das colunas do DF, para serem aceitas no bigquery futuramente, criamos um dict compreheesion com a intenção de ter como chave o nome original da coluna, e o valor a coluna tratada.\n",
    "### na coluna tratada nós removemos os acentos, parenteses e substituímos o espaço por \"_\", além de deixar tudo em minúsculo."
   ]
  },
  {
   "cell_type": "code",
   "execution_count": 27,
   "id": "ef847a4e",
   "metadata": {},
   "outputs": [],
   "source": [
    "header_sem_acento = {i : unidecode(i.lower().replace('(','').replace(')','').replace(' ','_'))\\\n",
    "                     for i in list(autoparts_final.columns)}\n",
    "#passando o dicionário para corrigir os nomes adequadamente\n",
    "autoparts_final = autoparts_final.rename(columns=header_sem_acento)"
   ]
  },
  {
   "cell_type": "markdown",
   "id": "3b74bf94",
   "metadata": {},
   "source": [
    "## Reordenando as colunas do DF karhub_autoparts para o inicio do DF final"
   ]
  },
  {
   "cell_type": "code",
   "execution_count": 28,
   "id": "a8174bd9",
   "metadata": {},
   "outputs": [],
   "source": [
    "autoparts_final = pd.concat([autoparts_final.iloc[:, -4:], autoparts_final.iloc[:, :-4]], axis=1)"
   ]
  },
  {
   "cell_type": "code",
   "execution_count": null,
   "id": "37aae610",
   "metadata": {},
   "outputs": [],
   "source": []
  }
 ],
 "metadata": {
  "kernelspec": {
   "display_name": "Python 3 (ipykernel)",
   "language": "python",
   "name": "python3"
  },
  "language_info": {
   "codemirror_mode": {
    "name": "ipython",
    "version": 3
   },
   "file_extension": ".py",
   "mimetype": "text/x-python",
   "name": "python",
   "nbconvert_exporter": "python",
   "pygments_lexer": "ipython3",
   "version": "3.10.1"
  }
 },
 "nbformat": 4,
 "nbformat_minor": 5
}
