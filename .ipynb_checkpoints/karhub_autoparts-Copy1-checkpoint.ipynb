{
 "cells": [
  {
   "cell_type": "markdown",
   "id": "b7a02d77",
   "metadata": {},
   "source": [
    "# O notebook abaixo será utilizado no intuito de realizar o pivot necessário na planilha de produtos da Karhub, para que fique mais organizada e que possamos fazer a analise e junções com outros dados adequadamente"
   ]
  },
  {
   "cell_type": "markdown",
   "id": "9b343a61",
   "metadata": {},
   "source": [
    "## Importando bibliotecas"
   ]
  },
  {
   "cell_type": "code",
   "execution_count": 1,
   "id": "4920bf2f",
   "metadata": {},
   "outputs": [],
   "source": [
    "import pandas as pd"
   ]
  },
  {
   "cell_type": "markdown",
   "id": "0359065d",
   "metadata": {},
   "source": [
    "## Acessando o arquivo XLSX para tratar os dados em um DF"
   ]
  },
  {
   "cell_type": "code",
   "execution_count": 2,
   "id": "48aa7cb9",
   "metadata": {},
   "outputs": [],
   "source": [
    "karhub_autoparts = pd.read_excel(\"source/karhub_autoparts_1.xlsx\")"
   ]
  },
  {
   "cell_type": "markdown",
   "id": "318cf5e0",
   "metadata": {},
   "source": [
    "## Gerando SK\n",
    "### Será necessário a criação de uma surrogate key para realizarmos um agrupamento no dataframe final, então iremos gerar de acordo com a função abaixo."
   ]
  },
  {
   "cell_type": "code",
   "execution_count": 3,
   "id": "10ebf18b",
   "metadata": {},
   "outputs": [],
   "source": [
    "def gerar_surrogate_key(linha):\n",
    "    \"\"\"a função em questão pega as colunas que classificam cada produto individualmente quando juntas, \n",
    "    montamos uma string com todos esses campos e utilizamos a função hash, na qual cria um valor único \n",
    "    para cada valor diferente recebido, dessa forma acaba funcionando como uma chave substituta para \n",
    "    identificarmos melhor cada produto individualmente. \"\"\"\n",
    "    chave = f\"{linha['Nome SKU']}_{linha['Fabricante']}_{linha['Código']}_{linha['Composição']}_{linha['Categoria']}\"\n",
    "    return hash(chave)"
   ]
  },
  {
   "cell_type": "code",
   "execution_count": 4,
   "id": "582f9899",
   "metadata": {},
   "outputs": [],
   "source": [
    "#Aplicando a função na nova coluna 'SK 'do DF\n",
    "karhub_autoparts['SK'] = karhub_autoparts.apply(gerar_surrogate_key,axis=1)"
   ]
  },
  {
   "cell_type": "markdown",
   "id": "f6adac8c",
   "metadata": {},
   "source": [
    "## Criando DF separado para valor atributo e nome atributo, para realizar o pivot"
   ]
  },
  {
   "cell_type": "code",
   "execution_count": 195,
   "id": "be07f4f8",
   "metadata": {},
   "outputs": [],
   "source": [
    "df_atributos = karhub_autoparts\\\n",
    "    .drop(\"Nome SKU\", axis='columns')\\\n",
    "    .drop(\"Fabricante\", axis='columns')\\\n",
    "    .drop(\"Código\", axis='columns')\\\n",
    "    .drop(\"Composição\", axis='columns')\\\n",
    "    .drop(\"Categoria\", axis='columns')\\\n",
    "    .drop(\"SK\", axis='columns')"
   ]
  },
  {
   "cell_type": "code",
   "execution_count": 196,
   "id": "bfe52b59",
   "metadata": {},
   "outputs": [],
   "source": [
    "df_pivot = df_atributos.pivot(values='Valor Atributo', columns='Nome Atributo')"
   ]
  },
  {
   "cell_type": "markdown",
   "id": "7c26798f",
   "metadata": {},
   "source": [
    "## Criando DF que realiza o join do DF original da planilha autoparts com o DF com os atributos pivotados"
   ]
  },
  {
   "cell_type": "code",
   "execution_count": 197,
   "id": "eea6e56c",
   "metadata": {},
   "outputs": [],
   "source": [
    "autoparts = karhub_autoparts.join(df_pivot)"
   ]
  },
  {
   "cell_type": "markdown",
   "id": "0d317447",
   "metadata": {},
   "source": [
    "## CRIANDO DICIONARIO PRO AGG\n",
    "### O dicionario sera utilizado no intuito de passar as colunas que receberão o método agg do pandas para agrupar utilizando a SK criada"
   ]
  },
  {
   "cell_type": "code",
   "execution_count": 199,
   "id": "f155f8d1",
   "metadata": {},
   "outputs": [],
   "source": [
    "#Lendo o DF primario e pegando todos os atributos existentes\n",
    "atributos = list(set(karhub_autoparts['Nome Atributo']))\n",
    "#Criando o dicionario e passando os atributos como chave, acompanhando o valor \"first\", \n",
    "#no qual é usado para que os valores dos atributos se encontrem na mesma linha de acordo com o agrupamento em questão\n",
    "dic_atributos = {}\n",
    "for cont in atributos:\n",
    "    dic_atributos[cont] = \"first\""
   ]
  },
  {
   "cell_type": "markdown",
   "id": "53c7a3f8",
   "metadata": {},
   "source": [
    "## Realizando o agrupamento com a surrogate key criada e utilizando o dicionário acima para unir os valores em uma mesma linha."
   ]
  },
  {
   "cell_type": "code",
   "execution_count": 222,
   "id": "60fb0069",
   "metadata": {},
   "outputs": [],
   "source": [
    "autoparts_atributo_final = autoparts.groupby(\"SK\").agg(dic_atributos).reset_index()"
   ]
  },
  {
   "cell_type": "code",
   "execution_count": 229,
   "id": "d7722042",
   "metadata": {},
   "outputs": [],
   "source": [
    "autoparts_atributo_final['Número de Espirais'] = autoparts_atributo_final['Número de Espirais'].astype(str)\n",
    "autoparts_atributo_final['Número de Espirais'] = autoparts_atributo_final['Número de Espirais'].str.replace(',', '.')\n"
   ]
  },
  {
   "cell_type": "code",
   "execution_count": 227,
   "id": "3deac2f1",
   "metadata": {},
   "outputs": [],
   "source": []
  },
  {
   "cell_type": "code",
   "execution_count": 228,
   "id": "8ee6a713",
   "metadata": {},
   "outputs": [
    {
     "data": {
      "text/html": [
       "<div>\n",
       "<style scoped>\n",
       "    .dataframe tbody tr th:only-of-type {\n",
       "        vertical-align: middle;\n",
       "    }\n",
       "\n",
       "    .dataframe tbody tr th {\n",
       "        vertical-align: top;\n",
       "    }\n",
       "\n",
       "    .dataframe thead th {\n",
       "        text-align: right;\n",
       "    }\n",
       "</style>\n",
       "<table border=\"1\" class=\"dataframe\">\n",
       "  <thead>\n",
       "    <tr style=\"text-align: right;\">\n",
       "      <th></th>\n",
       "      <th>SK</th>\n",
       "      <th>Número de Espirais</th>\n",
       "      <th>Peso Bruto (Kg)</th>\n",
       "      <th>Motor</th>\n",
       "      <th>Altura (cm)</th>\n",
       "      <th>Peso Líquido (Kg)</th>\n",
       "      <th>Posição</th>\n",
       "      <th>Largura (cm)</th>\n",
       "      <th>Comprimento (cm)</th>\n",
       "    </tr>\n",
       "  </thead>\n",
       "  <tbody>\n",
       "    <tr>\n",
       "      <th>0</th>\n",
       "      <td>-9124663926853804447</td>\n",
       "      <td>8.58</td>\n",
       "      <td>4.5</td>\n",
       "      <td>None</td>\n",
       "      <td>25</td>\n",
       "      <td>2.0</td>\n",
       "      <td>Traseira</td>\n",
       "      <td>40</td>\n",
       "      <td>25</td>\n",
       "    </tr>\n",
       "    <tr>\n",
       "      <th>1</th>\n",
       "      <td>-9103054833487406427</td>\n",
       "      <td>12</td>\n",
       "      <td>4.5</td>\n",
       "      <td>None</td>\n",
       "      <td>25</td>\n",
       "      <td>2.0</td>\n",
       "      <td>Traseira</td>\n",
       "      <td>40</td>\n",
       "      <td>25</td>\n",
       "    </tr>\n",
       "    <tr>\n",
       "      <th>2</th>\n",
       "      <td>-9088501009511711434</td>\n",
       "      <td>8.5</td>\n",
       "      <td>4.5</td>\n",
       "      <td>None</td>\n",
       "      <td>25</td>\n",
       "      <td>2.0</td>\n",
       "      <td>Traseira</td>\n",
       "      <td>40</td>\n",
       "      <td>25</td>\n",
       "    </tr>\n",
       "    <tr>\n",
       "      <th>3</th>\n",
       "      <td>-9079064606905015251</td>\n",
       "      <td>7.4</td>\n",
       "      <td>4.5</td>\n",
       "      <td>None</td>\n",
       "      <td>25</td>\n",
       "      <td>2.0</td>\n",
       "      <td>Traseira</td>\n",
       "      <td>40</td>\n",
       "      <td>25</td>\n",
       "    </tr>\n",
       "    <tr>\n",
       "      <th>4</th>\n",
       "      <td>-9040553161577106452</td>\n",
       "      <td>11.11</td>\n",
       "      <td>4.5</td>\n",
       "      <td>None</td>\n",
       "      <td>25</td>\n",
       "      <td>2.0</td>\n",
       "      <td>Dianteira</td>\n",
       "      <td>40</td>\n",
       "      <td>25</td>\n",
       "    </tr>\n",
       "    <tr>\n",
       "      <th>...</th>\n",
       "      <td>...</td>\n",
       "      <td>...</td>\n",
       "      <td>...</td>\n",
       "      <td>...</td>\n",
       "      <td>...</td>\n",
       "      <td>...</td>\n",
       "      <td>...</td>\n",
       "      <td>...</td>\n",
       "      <td>...</td>\n",
       "    </tr>\n",
       "    <tr>\n",
       "      <th>475</th>\n",
       "      <td>9081847474972484945</td>\n",
       "      <td>5.33</td>\n",
       "      <td>4.5</td>\n",
       "      <td>None</td>\n",
       "      <td>25</td>\n",
       "      <td>2.0</td>\n",
       "      <td>Dianteira</td>\n",
       "      <td>40</td>\n",
       "      <td>25</td>\n",
       "    </tr>\n",
       "    <tr>\n",
       "      <th>476</th>\n",
       "      <td>9084844004976542260</td>\n",
       "      <td>5.6</td>\n",
       "      <td>4.5</td>\n",
       "      <td>None</td>\n",
       "      <td>25</td>\n",
       "      <td>2.0</td>\n",
       "      <td>Dianteira</td>\n",
       "      <td>40</td>\n",
       "      <td>25</td>\n",
       "    </tr>\n",
       "    <tr>\n",
       "      <th>477</th>\n",
       "      <td>9124386768874384615</td>\n",
       "      <td>None</td>\n",
       "      <td>0.600</td>\n",
       "      <td>None</td>\n",
       "      <td>9.0</td>\n",
       "      <td>0.600</td>\n",
       "      <td>Dianteira</td>\n",
       "      <td>18.0</td>\n",
       "      <td>8.0</td>\n",
       "    </tr>\n",
       "    <tr>\n",
       "      <th>478</th>\n",
       "      <td>9132599821214403917</td>\n",
       "      <td>6.43</td>\n",
       "      <td>4.5</td>\n",
       "      <td>None</td>\n",
       "      <td>25</td>\n",
       "      <td>2.0</td>\n",
       "      <td>Traseira</td>\n",
       "      <td>40</td>\n",
       "      <td>25</td>\n",
       "    </tr>\n",
       "    <tr>\n",
       "      <th>479</th>\n",
       "      <td>9139903200322242878</td>\n",
       "      <td>None</td>\n",
       "      <td>0.600</td>\n",
       "      <td>None</td>\n",
       "      <td>9.0</td>\n",
       "      <td>0.600</td>\n",
       "      <td>Dianteira</td>\n",
       "      <td>18.0</td>\n",
       "      <td>8.0</td>\n",
       "    </tr>\n",
       "  </tbody>\n",
       "</table>\n",
       "<p>480 rows × 9 columns</p>\n",
       "</div>"
      ],
      "text/plain": [
       "                      SK Número de Espirais Peso Bruto (Kg) Motor Altura (cm)  \\\n",
       "0   -9124663926853804447               8.58             4.5  None          25   \n",
       "1   -9103054833487406427                 12             4.5  None          25   \n",
       "2   -9088501009511711434                8.5             4.5  None          25   \n",
       "3   -9079064606905015251                7.4             4.5  None          25   \n",
       "4   -9040553161577106452              11.11             4.5  None          25   \n",
       "..                   ...                ...             ...   ...         ...   \n",
       "475  9081847474972484945               5.33             4.5  None          25   \n",
       "476  9084844004976542260                5.6             4.5  None          25   \n",
       "477  9124386768874384615               None           0.600  None         9.0   \n",
       "478  9132599821214403917               6.43             4.5  None          25   \n",
       "479  9139903200322242878               None           0.600  None         9.0   \n",
       "\n",
       "    Peso Líquido (Kg)    Posição Largura (cm) Comprimento (cm)  \n",
       "0                 2.0   Traseira           40               25  \n",
       "1                 2.0   Traseira           40               25  \n",
       "2                 2.0   Traseira           40               25  \n",
       "3                 2.0   Traseira           40               25  \n",
       "4                 2.0  Dianteira           40               25  \n",
       "..                ...        ...          ...              ...  \n",
       "475               2.0  Dianteira           40               25  \n",
       "476               2.0  Dianteira           40               25  \n",
       "477             0.600  Dianteira         18.0              8.0  \n",
       "478               2.0   Traseira           40               25  \n",
       "479             0.600  Dianteira         18.0              8.0  \n",
       "\n",
       "[480 rows x 9 columns]"
      ]
     },
     "execution_count": 228,
     "metadata": {},
     "output_type": "execute_result"
    }
   ],
   "source": [
    "autoparts_atributo_final."
   ]
  },
  {
   "cell_type": "code",
   "execution_count": null,
   "id": "89ad7f3b",
   "metadata": {},
   "outputs": [],
   "source": []
  }
 ],
 "metadata": {
  "kernelspec": {
   "display_name": "Python 3 (ipykernel)",
   "language": "python",
   "name": "python3"
  },
  "language_info": {
   "codemirror_mode": {
    "name": "ipython",
    "version": 3
   },
   "file_extension": ".py",
   "mimetype": "text/x-python",
   "name": "python",
   "nbconvert_exporter": "python",
   "pygments_lexer": "ipython3",
   "version": "3.10.1"
  }
 },
 "nbformat": 4,
 "nbformat_minor": 5
}
